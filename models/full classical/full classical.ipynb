{
 "cells": [
  {
   "cell_type": "code",
   "execution_count": 3,
   "id": "f2dacba7",
   "metadata": {},
   "outputs": [
    {
     "name": "stdout",
     "output_type": "stream",
     "text": [
      "Collecting pennylane\n",
      "  Using cached PennyLane-0.41.1-py3-none-any.whl.metadata (10 kB)\n",
      "Requirement already satisfied: numpy in /Users/soardr/FLIQ/.venv/lib/python3.11/site-packages (from pennylane) (2.2.5)\n",
      "Requirement already satisfied: scipy in /Users/soardr/FLIQ/.venv/lib/python3.11/site-packages (from pennylane) (1.15.3)\n",
      "Requirement already satisfied: networkx in /Users/soardr/FLIQ/.venv/lib/python3.11/site-packages (from pennylane) (3.4.2)\n",
      "Requirement already satisfied: rustworkx>=0.14.0 in /Users/soardr/FLIQ/.venv/lib/python3.11/site-packages (from pennylane) (0.16.0)\n",
      "Collecting autograd (from pennylane)\n",
      "  Using cached autograd-1.8.0-py3-none-any.whl.metadata (7.5 kB)\n",
      "Collecting tomlkit (from pennylane)\n",
      "  Using cached tomlkit-0.13.2-py3-none-any.whl.metadata (2.7 kB)\n",
      "Collecting appdirs (from pennylane)\n",
      "  Using cached appdirs-1.4.4-py2.py3-none-any.whl.metadata (9.0 kB)\n",
      "Collecting autoray>=0.6.11 (from pennylane)\n",
      "  Using cached autoray-0.7.1-py3-none-any.whl.metadata (5.8 kB)\n",
      "Collecting cachetools (from pennylane)\n",
      "  Using cached cachetools-5.5.2-py3-none-any.whl.metadata (5.4 kB)\n",
      "Collecting pennylane-lightning>=0.41 (from pennylane)\n",
      "  Using cached pennylane_lightning-0.41.1-cp311-cp311-macosx_13_0_arm64.whl.metadata (12 kB)\n",
      "Collecting requests (from pennylane)\n",
      "  Using cached requests-2.32.3-py3-none-any.whl.metadata (4.6 kB)\n",
      "Requirement already satisfied: typing-extensions in /Users/soardr/FLIQ/.venv/lib/python3.11/site-packages (from pennylane) (4.13.2)\n",
      "Requirement already satisfied: packaging in /Users/soardr/FLIQ/.venv/lib/python3.11/site-packages (from pennylane) (25.0)\n",
      "Collecting diastatic-malt (from pennylane)\n",
      "  Using cached diastatic_malt-2.15.2-py3-none-any.whl.metadata (2.6 kB)\n",
      "Collecting scipy-openblas32>=0.3.26 (from pennylane-lightning>=0.41->pennylane)\n",
      "  Using cached scipy_openblas32-0.3.29.0.0-py3-none-macosx_11_0_arm64.whl.metadata (56 kB)\n",
      "Collecting astunparse (from diastatic-malt->pennylane)\n",
      "  Using cached astunparse-1.6.3-py2.py3-none-any.whl.metadata (4.4 kB)\n",
      "Collecting gast (from diastatic-malt->pennylane)\n",
      "  Using cached gast-0.6.0-py3-none-any.whl.metadata (1.3 kB)\n",
      "Collecting termcolor (from diastatic-malt->pennylane)\n",
      "  Using cached termcolor-3.1.0-py3-none-any.whl.metadata (6.4 kB)\n",
      "Collecting wheel<1.0,>=0.23.0 (from astunparse->diastatic-malt->pennylane)\n",
      "  Using cached wheel-0.45.1-py3-none-any.whl.metadata (2.3 kB)\n",
      "Requirement already satisfied: six<2.0,>=1.6.1 in /Users/soardr/FLIQ/.venv/lib/python3.11/site-packages (from astunparse->diastatic-malt->pennylane) (1.17.0)\n",
      "Collecting charset-normalizer<4,>=2 (from requests->pennylane)\n",
      "  Using cached charset_normalizer-3.4.2-cp311-cp311-macosx_10_9_universal2.whl.metadata (35 kB)\n",
      "Collecting idna<4,>=2.5 (from requests->pennylane)\n",
      "  Using cached idna-3.10-py3-none-any.whl.metadata (10 kB)\n",
      "Collecting urllib3<3,>=1.21.1 (from requests->pennylane)\n",
      "  Using cached urllib3-2.4.0-py3-none-any.whl.metadata (6.5 kB)\n",
      "Collecting certifi>=2017.4.17 (from requests->pennylane)\n",
      "  Using cached certifi-2025.4.26-py3-none-any.whl.metadata (2.5 kB)\n",
      "Using cached PennyLane-0.41.1-py3-none-any.whl (2.3 MB)\n",
      "Using cached autoray-0.7.1-py3-none-any.whl (930 kB)\n",
      "Using cached pennylane_lightning-0.41.1-cp311-cp311-macosx_13_0_arm64.whl (1.7 MB)\n",
      "Using cached scipy_openblas32-0.3.29.0.0-py3-none-macosx_11_0_arm64.whl (9.3 MB)\n",
      "Using cached appdirs-1.4.4-py2.py3-none-any.whl (9.6 kB)\n",
      "Using cached autograd-1.8.0-py3-none-any.whl (51 kB)\n",
      "Using cached cachetools-5.5.2-py3-none-any.whl (10 kB)\n",
      "Using cached diastatic_malt-2.15.2-py3-none-any.whl (167 kB)\n",
      "Using cached astunparse-1.6.3-py2.py3-none-any.whl (12 kB)\n",
      "Using cached wheel-0.45.1-py3-none-any.whl (72 kB)\n",
      "Using cached gast-0.6.0-py3-none-any.whl (21 kB)\n",
      "Using cached requests-2.32.3-py3-none-any.whl (64 kB)\n",
      "Using cached charset_normalizer-3.4.2-cp311-cp311-macosx_10_9_universal2.whl (198 kB)\n",
      "Using cached idna-3.10-py3-none-any.whl (70 kB)\n",
      "Using cached urllib3-2.4.0-py3-none-any.whl (128 kB)\n",
      "Using cached certifi-2025.4.26-py3-none-any.whl (159 kB)\n",
      "Using cached termcolor-3.1.0-py3-none-any.whl (7.7 kB)\n",
      "Using cached tomlkit-0.13.2-py3-none-any.whl (37 kB)\n",
      "Installing collected packages: appdirs, wheel, urllib3, tomlkit, termcolor, scipy-openblas32, idna, gast, charset-normalizer, certifi, cachetools, autoray, autograd, requests, astunparse, diastatic-malt, pennylane-lightning, pennylane\n",
      "\u001b[2K   \u001b[90m━━━━━━━━━━━━━━━━━━━━━━━━━━━━━━━━━━━━━━━━\u001b[0m \u001b[32m18/18\u001b[0m [pennylane]18\u001b[0m [pennylane]lightning]\n",
      "\u001b[1A\u001b[2KSuccessfully installed appdirs-1.4.4 astunparse-1.6.3 autograd-1.8.0 autoray-0.7.1 cachetools-5.5.2 certifi-2025.4.26 charset-normalizer-3.4.2 diastatic-malt-2.15.2 gast-0.6.0 idna-3.10 pennylane-0.41.1 pennylane-lightning-0.41.1 requests-2.32.3 scipy-openblas32-0.3.29.0.0 termcolor-3.1.0 tomlkit-0.13.2 urllib3-2.4.0 wheel-0.45.1\n",
      "Note: you may need to restart the kernel to use updated packages.\n"
     ]
    }
   ],
   "source": [
    "%pip install pennylane"
   ]
  },
  {
   "cell_type": "code",
   "execution_count": 2,
   "id": "3ebf3072",
   "metadata": {},
   "outputs": [],
   "source": [
    "import torch\n",
    "import torch.nn as nn\n",
    "from torch.autograd import Function\n",
    "\n",
    "import numpy as np\n",
    "import pandas as pd\n",
    "\n",
    "import matplotlib.pyplot as plt\n",
    "import seaborn as sns\n",
    "\n",
    "from qiskit import QuantumCircuit\n",
    "from qiskit.circuit import ParameterVector\n",
    "from qiskit.primitives import StatevectorEstimator\n",
    "from qiskit.quantum_info import SparsePauliOp\n",
    "\n",
    "import pennylane as qml"
   ]
  },
  {
   "cell_type": "markdown",
   "id": "e18d8c02",
   "metadata": {},
   "source": [
    "## Data Preparation"
   ]
  },
  {
   "cell_type": "code",
   "execution_count": 10,
   "id": "fac80fa6",
   "metadata": {},
   "outputs": [
    {
     "name": "stdout",
     "output_type": "stream",
     "text": [
      "Collecting scikit-learn\n",
      "  Using cached scikit_learn-1.6.1-cp311-cp311-macosx_12_0_arm64.whl.metadata (31 kB)\n",
      "Requirement already satisfied: numpy>=1.19.5 in /Users/soardr/FLIQ/.venv/lib/python3.11/site-packages (from scikit-learn) (2.2.5)\n",
      "Requirement already satisfied: scipy>=1.6.0 in /Users/soardr/FLIQ/.venv/lib/python3.11/site-packages (from scikit-learn) (1.15.3)\n",
      "Collecting joblib>=1.2.0 (from scikit-learn)\n",
      "  Using cached joblib-1.5.0-py3-none-any.whl.metadata (5.6 kB)\n",
      "Collecting threadpoolctl>=3.1.0 (from scikit-learn)\n",
      "  Using cached threadpoolctl-3.6.0-py3-none-any.whl.metadata (13 kB)\n",
      "Using cached scikit_learn-1.6.1-cp311-cp311-macosx_12_0_arm64.whl (11.1 MB)\n",
      "Using cached joblib-1.5.0-py3-none-any.whl (307 kB)\n",
      "Using cached threadpoolctl-3.6.0-py3-none-any.whl (18 kB)\n",
      "Installing collected packages: threadpoolctl, joblib, scikit-learn\n",
      "\u001b[2K   \u001b[90m━━━━━━━━━━━━━━━━━━━━━━━━━━━━━━━━━━━━━━━━\u001b[0m \u001b[32m3/3\u001b[0m [scikit-learn][0m [scikit-learn]\n",
      "\u001b[1A\u001b[2KSuccessfully installed joblib-1.5.0 scikit-learn-1.6.1 threadpoolctl-3.6.0\n",
      "Note: you may need to restart the kernel to use updated packages.\n"
     ]
    }
   ],
   "source": [
    "%pip install -U scikit-learn"
   ]
  },
  {
   "cell_type": "code",
   "execution_count": 3,
   "id": "c96f6519",
   "metadata": {},
   "outputs": [],
   "source": [
    "from sklearn.model_selection import train_test_split\n",
    "from sklearn.metrics import classification_report, confusion_matrix, accuracy_score"
   ]
  },
  {
   "cell_type": "code",
   "execution_count": 4,
   "id": "c9344d73",
   "metadata": {},
   "outputs": [],
   "source": [
    "train_dataset = pd.read_csv(\"/Users/soardr/FLIQ/Datasets/drug+induced+autoimmunity+prediction/DIA_trainingset_RDKit_descriptors.csv\")\n",
    "test_dataset = pd.read_csv(\"/Users/soardr/FLIQ/Datasets/drug+induced+autoimmunity+prediction/DIA_testset_RDKit_descriptors.csv\")"
   ]
  },
  {
   "cell_type": "code",
   "execution_count": 5,
   "id": "19ad3aa8",
   "metadata": {},
   "outputs": [],
   "source": [
    "X = train_dataset.drop(['Label', 'SMILES'], axis=1)\n",
    "y = train_dataset['Label']"
   ]
  },
  {
   "cell_type": "code",
   "execution_count": 6,
   "id": "481ff5a3",
   "metadata": {},
   "outputs": [],
   "source": [
    "X_train, X_val, y_train, y_val = train_test_split(X, y, \n",
    "                                                test_size=0.2, \n",
    "                                                shuffle=True, \n",
    "                                                stratify=y, \n",
    "                                                random_state=42)"
   ]
  },
  {
   "cell_type": "code",
   "execution_count": 7,
   "id": "4fb4205e",
   "metadata": {},
   "outputs": [
    {
     "data": {
      "text/plain": [
       "((381, 196), (96, 196), (381,), (96,))"
      ]
     },
     "execution_count": 7,
     "metadata": {},
     "output_type": "execute_result"
    }
   ],
   "source": [
    "X_train.shape, X_val.shape, y_train.shape, y_val.shape"
   ]
  },
  {
   "cell_type": "markdown",
   "id": "abdf6b34",
   "metadata": {},
   "source": [
    "## Model definition"
   ]
  },
  {
   "cell_type": "code",
   "execution_count": 8,
   "id": "d6baad14",
   "metadata": {},
   "outputs": [
    {
     "name": "stdout",
     "output_type": "stream",
     "text": [
      "mps\n"
     ]
    }
   ],
   "source": [
    "device = \"cuda\" if torch.cuda.is_available() else \"cpu\"\n",
    "device = \"mps\" if torch.backends.mps.is_available() and torch.backends.mps.is_built() else device\n",
    "\n",
    "device = torch.device(device)\n",
    "print(device)"
   ]
  },
  {
   "cell_type": "code",
   "execution_count": 9,
   "id": "d86f3b6d",
   "metadata": {},
   "outputs": [],
   "source": [
    "class FullClassical(nn.Module):\n",
    "    def __init__(self, input_dim, output_dim):\n",
    "        super(FullClassical, self).__init__()\n",
    "        self.fc1 = nn.Linear(input_dim, 128)\n",
    "        self.fc2 = nn.Linear(128, 64)\n",
    "        self.fc3 = nn.Linear(64, 32)\n",
    "        self.fc4 = nn.Linear(32, 16)\n",
    "        self.fc5 = nn.Linear(16, output_dim)\n",
    "        self.relu = nn.ReLU()\n",
    "        self.softmax = nn.Softmax(dim=1)\n",
    "\n",
    "    def forward(self, x):\n",
    "        x = self.fc1(x)\n",
    "        x = self.relu(x)\n",
    "        x = self.fc2(x)\n",
    "        x = self.relu(x)\n",
    "        x = self.fc3(x)\n",
    "        x = self.relu(x)\n",
    "        x = self.fc4(x)\n",
    "        x = self.relu(x)\n",
    "        x = self.fc5(x)\n",
    "\n",
    "        return self.softmax(x)"
   ]
  },
  {
   "cell_type": "code",
   "execution_count": 10,
   "id": "95fbfbc6",
   "metadata": {},
   "outputs": [],
   "source": [
    "model_FullClassical = FullClassical(X_train.shape[1], 2).to(device)"
   ]
  },
  {
   "cell_type": "markdown",
   "id": "08406f9a",
   "metadata": {},
   "source": [
    "## Loss function and Optimizer"
   ]
  },
  {
   "cell_type": "code",
   "execution_count": 11,
   "id": "204f9ba1",
   "metadata": {},
   "outputs": [],
   "source": [
    "loss_fn = nn.CrossEntropyLoss()\n",
    "optimizer = torch.optim.Adam(model_FullClassical.parameters(), lr=0.001)"
   ]
  },
  {
   "cell_type": "markdown",
   "id": "1c09135e",
   "metadata": {},
   "source": [
    "## Training and Validation Loaders"
   ]
  },
  {
   "cell_type": "code",
   "execution_count": 12,
   "id": "09ff5f28",
   "metadata": {},
   "outputs": [],
   "source": [
    "X_train_tensor = torch.tensor(X_train.values, dtype=torch.float32)\n",
    "y_train_tensor = torch.tensor(y_train.values, dtype=torch.long)\n",
    "\n",
    "X_val_tensor = torch.tensor(X_val.values, dtype=torch.float32)\n",
    "y_val_tensor = torch.tensor(y_val.values, dtype=torch.long)"
   ]
  },
  {
   "cell_type": "code",
   "execution_count": 13,
   "id": "c0f9e675",
   "metadata": {},
   "outputs": [],
   "source": [
    "train_dataset = torch.utils.data.TensorDataset(X_train_tensor, y_train_tensor)\n",
    "val_dataset = torch.utils.data.TensorDataset(X_val_tensor, y_val_tensor)"
   ]
  },
  {
   "cell_type": "code",
   "execution_count": 14,
   "id": "8329cb80",
   "metadata": {},
   "outputs": [],
   "source": [
    "training_loader = torch.utils.data.DataLoader(train_dataset, batch_size=16, shuffle=True)\n",
    "val_loader = torch.utils.data.DataLoader(val_dataset, batch_size=16, shuffle=False)"
   ]
  },
  {
   "cell_type": "markdown",
   "id": "1c8e4cba",
   "metadata": {},
   "source": [
    "## Training"
   ]
  },
  {
   "cell_type": "code",
   "execution_count": 15,
   "id": "3c923475",
   "metadata": {},
   "outputs": [],
   "source": [
    "num_epochs = 20"
   ]
  },
  {
   "cell_type": "code",
   "execution_count": 16,
   "id": "638ae49b",
   "metadata": {},
   "outputs": [
    {
     "name": "stdout",
     "output_type": "stream",
     "text": [
      "Epoch [1/20], Loss: 0.5872\n",
      "Epoch [2/20], Loss: 0.5594\n",
      "Epoch [3/20], Loss: 0.5611\n",
      "Epoch [4/20], Loss: 0.5599\n",
      "Epoch [5/20], Loss: 0.5605\n",
      "Epoch [6/20], Loss: 0.5593\n",
      "Epoch [7/20], Loss: 0.5593\n",
      "Epoch [8/20], Loss: 0.5599\n",
      "Epoch [9/20], Loss: 0.5587\n",
      "Epoch [10/20], Loss: 0.5611\n",
      "Epoch [11/20], Loss: 0.5611\n",
      "Epoch [12/20], Loss: 0.5586\n",
      "Epoch [13/20], Loss: 0.5610\n",
      "Epoch [14/20], Loss: 0.5592\n",
      "Epoch [15/20], Loss: 0.5604\n",
      "Epoch [16/20], Loss: 0.5604\n",
      "Epoch [17/20], Loss: 0.5608\n",
      "Epoch [18/20], Loss: 0.5617\n",
      "Epoch [19/20], Loss: 0.5604\n",
      "Epoch [20/20], Loss: 0.5603\n"
     ]
    }
   ],
   "source": [
    "for epoch in range(num_epochs):\n",
    "    model_FullClassical.train()\n",
    "    running_loss = 0.0\n",
    "\n",
    "    for batch in training_loader:\n",
    "        inputs, labels = batch\n",
    "        inputs, labels = inputs.to(device), labels.to(device)\n",
    "\n",
    "        optimizer.zero_grad()\n",
    "\n",
    "        outputs = model_FullClassical(inputs)\n",
    "        loss = loss_fn(outputs, labels)\n",
    "        loss.backward()\n",
    "        optimizer.step()\n",
    "\n",
    "        running_loss += loss.item()\n",
    "    \n",
    "    epoch_loss = running_loss / len(training_loader)\n",
    "    print(f\"Epoch [{epoch+1}/{num_epochs}], Loss: {epoch_loss:.4f}\")"
   ]
  },
  {
   "cell_type": "code",
   "execution_count": 17,
   "id": "17e61f88",
   "metadata": {},
   "outputs": [
    {
     "name": "stdout",
     "output_type": "stream",
     "text": [
      "Validation Loss: 0.5632, Validation Accuracy: 0.7500\n"
     ]
    }
   ],
   "source": [
    "model_FullClassical.eval()\n",
    "val_loss = 0.0\n",
    "correct = 0\n",
    "\n",
    "all_pred = []\n",
    "all_labels = []\n",
    "\n",
    "with torch.no_grad():\n",
    "    for batch in val_loader:\n",
    "        inputs, labels = batch\n",
    "        inputs, labels = inputs.to(device), labels.to(device)\n",
    "\n",
    "        outputs = model_FullClassical(inputs)\n",
    "        loss = loss_fn(outputs, labels)\n",
    "        val_loss += loss.item()\n",
    "\n",
    "        _, predicted = torch.max(outputs.data, 1)\n",
    "        correct += (predicted == labels).sum().item()\n",
    "\n",
    "        all_pred.extend(predicted.cpu().numpy())\n",
    "        all_labels.extend(labels.cpu().numpy())\n",
    "\n",
    "val_loss /= len(val_loader)\n",
    "val_accuracy = correct / len(val_dataset)\n",
    "print(f\"Validation Loss: {val_loss:.4f}, Validation Accuracy: {val_accuracy:.4f}\")"
   ]
  },
  {
   "cell_type": "markdown",
   "id": "e2ecba49",
   "metadata": {},
   "source": [
    "## Classification report"
   ]
  },
  {
   "cell_type": "code",
   "execution_count": 18,
   "id": "7ed920c0",
   "metadata": {},
   "outputs": [
    {
     "name": "stdout",
     "output_type": "stream",
     "text": [
      "Classification Report:\n",
      "              precision    recall  f1-score   support\n",
      "\n",
      "           0     0.7500    1.0000    0.8571        72\n",
      "           1     0.0000    0.0000    0.0000        24\n",
      "\n",
      "    accuracy                         0.7500        96\n",
      "   macro avg     0.3750    0.5000    0.4286        96\n",
      "weighted avg     0.5625    0.7500    0.6429        96\n",
      "\n"
     ]
    },
    {
     "name": "stderr",
     "output_type": "stream",
     "text": [
      "/Users/soardr/FLIQ/.venv/lib/python3.11/site-packages/sklearn/metrics/_classification.py:1565: UndefinedMetricWarning: Precision is ill-defined and being set to 0.0 in labels with no predicted samples. Use `zero_division` parameter to control this behavior.\n",
      "  _warn_prf(average, modifier, f\"{metric.capitalize()} is\", len(result))\n",
      "/Users/soardr/FLIQ/.venv/lib/python3.11/site-packages/sklearn/metrics/_classification.py:1565: UndefinedMetricWarning: Precision is ill-defined and being set to 0.0 in labels with no predicted samples. Use `zero_division` parameter to control this behavior.\n",
      "  _warn_prf(average, modifier, f\"{metric.capitalize()} is\", len(result))\n",
      "/Users/soardr/FLIQ/.venv/lib/python3.11/site-packages/sklearn/metrics/_classification.py:1565: UndefinedMetricWarning: Precision is ill-defined and being set to 0.0 in labels with no predicted samples. Use `zero_division` parameter to control this behavior.\n",
      "  _warn_prf(average, modifier, f\"{metric.capitalize()} is\", len(result))\n"
     ]
    }
   ],
   "source": [
    "print(\"Classification Report:\")\n",
    "print(classification_report(all_labels, all_pred, digits=4))"
   ]
  },
  {
   "cell_type": "code",
   "execution_count": 19,
   "id": "f1cd5cca",
   "metadata": {},
   "outputs": [
    {
     "name": "stdout",
     "output_type": "stream",
     "text": [
      "Accuracy: 0.7500\n"
     ]
    }
   ],
   "source": [
    "acc = accuracy_score(all_labels, all_pred)\n",
    "print(f\"Accuracy: {acc:.4f}\")"
   ]
  },
  {
   "cell_type": "code",
   "execution_count": 20,
   "id": "0d9ad640",
   "metadata": {},
   "outputs": [
    {
     "data": {
      "image/png": "[encoded data removed]",
      "text/plain": [
       "<Figure size 600x400 with 2 Axes>"
      ]
     },
     "metadata": {},
     "output_type": "display_data"
    }
   ],
   "source": [
    "cm = confusion_matrix(all_labels, all_pred)\n",
    "plt.figure(figsize=(6, 4))\n",
    "sns.heatmap(cm, annot=True, fmt='d', cmap='Blues')\n",
    "plt.title(\"Confusion Matrix\")\n",
    "plt.xlabel(\"Predicted\")\n",
    "plt.ylabel(\"Actual\")\n",
    "plt.show()"
   ]
  },
  {
   "cell_type": "markdown",
   "id": "c58a624f",
   "metadata": {},
   "source": [
    "## Saving model"
   ]
  },
  {
   "cell_type": "code",
   "execution_count": 21,
   "id": "f1fb5bef",
   "metadata": {},
   "outputs": [],
   "source": [
    "torch.save(model_FullClassical, \"/Users/soardr/FLIQ/models for DIA/model_FullClassical.pth\")"
   ]
  },
  {
   "cell_type": "markdown",
   "id": "0a50bec2",
   "metadata": {},
   "source": [
    "## Loading model"
   ]
  },
  {
   "cell_type": "code",
   "execution_count": 22,
   "id": "bbcae2c5",
   "metadata": {},
   "outputs": [
    {
     "data": {
      "text/plain": [
       "FullClassical(\n",
       "  (fc1): Linear(in_features=196, out_features=128, bias=True)\n",
       "  (fc2): Linear(in_features=128, out_features=64, bias=True)\n",
       "  (fc3): Linear(in_features=64, out_features=32, bias=True)\n",
       "  (fc4): Linear(in_features=32, out_features=16, bias=True)\n",
       "  (fc5): Linear(in_features=16, out_features=2, bias=True)\n",
       "  (relu): ReLU()\n",
       "  (softmax): Softmax(dim=1)\n",
       ")"
      ]
     },
     "execution_count": 22,
     "metadata": {},
     "output_type": "execute_result"
    }
   ],
   "source": [
    "loaded__model_FullClassical = torch.load(\"/Users/soardr/FLIQ/models for DIA/model_FullClassical.pth\", weights_only=False)\n",
    "loaded__model_FullClassical.eval()"
   ]
  },
  {
   "cell_type": "markdown",
   "id": "4b81b757",
   "metadata": {},
   "source": [
    "# Testing model on test dataset"
   ]
  },
  {
   "cell_type": "code",
   "execution_count": 23,
   "id": "77a344a4",
   "metadata": {},
   "outputs": [],
   "source": [
    "X_test = test_dataset.drop(['Label', 'SMILES'], axis=1)\n",
    "y_test = test_dataset['Label']"
   ]
  },
  {
   "cell_type": "code",
   "execution_count": 24,
   "id": "1f2917fe",
   "metadata": {},
   "outputs": [],
   "source": [
    "X_test_tensor = torch.tensor(X_test.values, dtype=torch.float32)\n",
    "y_test_tensor = torch.tensor(y_test.values, dtype=torch.long)"
   ]
  },
  {
   "cell_type": "code",
   "execution_count": 25,
   "id": "12275632",
   "metadata": {},
   "outputs": [],
   "source": [
    "test_preds_model = np.argmax(model_FullClassical(X_test_tensor.to(device)).cpu().detach().numpy(), axis=1)"
   ]
  },
  {
   "cell_type": "code",
   "execution_count": 26,
   "id": "3a352999",
   "metadata": {},
   "outputs": [
    {
     "name": "stdout",
     "output_type": "stream",
     "text": [
      "Prediction Classification Report:\n",
      "              precision    recall  f1-score   support\n",
      "\n",
      "           0     0.7500    1.0000    0.8571        90\n",
      "           1     0.0000    0.0000    0.0000        30\n",
      "\n",
      "    accuracy                         0.7500       120\n",
      "   macro avg     0.3750    0.5000    0.4286       120\n",
      "weighted avg     0.5625    0.7500    0.6429       120\n",
      "\n"
     ]
    },
    {
     "name": "stderr",
     "output_type": "stream",
     "text": [
      "/Users/soardr/FLIQ/.venv/lib/python3.11/site-packages/sklearn/metrics/_classification.py:1565: UndefinedMetricWarning: Precision is ill-defined and being set to 0.0 in labels with no predicted samples. Use `zero_division` parameter to control this behavior.\n",
      "  _warn_prf(average, modifier, f\"{metric.capitalize()} is\", len(result))\n",
      "/Users/soardr/FLIQ/.venv/lib/python3.11/site-packages/sklearn/metrics/_classification.py:1565: UndefinedMetricWarning: Precision is ill-defined and being set to 0.0 in labels with no predicted samples. Use `zero_division` parameter to control this behavior.\n",
      "  _warn_prf(average, modifier, f\"{metric.capitalize()} is\", len(result))\n",
      "/Users/soardr/FLIQ/.venv/lib/python3.11/site-packages/sklearn/metrics/_classification.py:1565: UndefinedMetricWarning: Precision is ill-defined and being set to 0.0 in labels with no predicted samples. Use `zero_division` parameter to control this behavior.\n",
      "  _warn_prf(average, modifier, f\"{metric.capitalize()} is\", len(result))\n"
     ]
    }
   ],
   "source": [
    "print(\"Prediction Classification Report:\")\n",
    "print(classification_report(y_test_tensor, test_preds_model, digits=4))"
   ]
  },
  {
   "cell_type": "code",
   "execution_count": 27,
   "id": "bdaad055",
   "metadata": {},
   "outputs": [
    {
     "name": "stdout",
     "output_type": "stream",
     "text": [
      "Prediction Accuracy: 0.7500\n"
     ]
    }
   ],
   "source": [
    "acc = accuracy_score(y_test_tensor, test_preds_model)\n",
    "print(f\"Prediction Accuracy: {acc:.4f}\")"
   ]
  },
  {
   "cell_type": "code",
   "execution_count": 28,
   "id": "1f9007e2",
   "metadata": {},
   "outputs": [
    {
     "data": {
      "image/png": "[encoded data removed]",
      "text/plain": [
       "<Figure size 600x400 with 2 Axes>"
      ]
     },
     "metadata": {},
     "output_type": "display_data"
    }
   ],
   "source": [
    "cm = confusion_matrix(y_test_tensor, test_preds_model)\n",
    "plt.figure(figsize=(6, 4))\n",
    "sns.heatmap(cm, annot=True, fmt='d', cmap='Blues')\n",
    "plt.title(\"Prediction Confusion Matrix\")\n",
    "plt.xlabel(\"Predicted\")\n",
    "plt.ylabel(\"Actual\")\n",
    "plt.show()"
   ]
  },
  {
   "cell_type": "code",
   "execution_count": null,
   "id": "08cc042d",
   "metadata": {},
   "outputs": [],
   "source": []
  }
 ],
 "metadata": {
  "kernelspec": {
   "display_name": ".venv",
   "language": "python",
   "name": "python3"
  },
  "language_info": {
   "codemirror_mode": {
    "name": "ipython",
    "version": 3
   },
   "file_extension": ".py",
   "mimetype": "text/x-python",
   "name": "python",
   "nbconvert_exporter": "python",
   "pygments_lexer": "ipython3",
   "version": "3.11.3"
  }
 },
 "nbformat": 4,
 "nbformat_minor": 5
}
